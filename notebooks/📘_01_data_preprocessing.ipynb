{
  "nbformat": 4,
  "nbformat_minor": 0,
  "metadata": {
    "colab": {
      "provenance": []
    },
    "kernelspec": {
      "name": "python3",
      "display_name": "Python 3"
    },
    "language_info": {
      "name": "python"
    }
  },
  "cells": [
    {
      "cell_type": "markdown",
      "source": [
        "\n",
        "# 🌾 Notebook 1: Data Preprocessing\n",
        "# =========================================="
      ],
      "metadata": {
        "id": "dZv2UFVEcz2w"
      }
    },
    {
      "cell_type": "code",
      "execution_count": 2,
      "metadata": {
        "id": "q4WysTT6ccgH"
      },
      "outputs": [],
      "source": [
        "import pandas as pd\n",
        "import numpy as np"
      ]
    },
    {
      "cell_type": "markdown",
      "source": [
        "### 1. Load dataset"
      ],
      "metadata": {
        "id": "fHT2CCmZdSPo"
      }
    },
    {
      "cell_type": "code",
      "source": [
        "raw_df = pd.read_csv(\"/content/yield_df.csv\")"
      ],
      "metadata": {
        "id": "mryP3ZRhdxCZ"
      },
      "execution_count": 3,
      "outputs": []
    },
    {
      "cell_type": "markdown",
      "source": [
        "### 2. Inspect data"
      ],
      "metadata": {
        "id": "cP7BuRDgeN73"
      }
    },
    {
      "cell_type": "code",
      "source": [
        "print(\"🔍 Shape:\", raw_df.shape)\n",
        "print(\"📑 Columns:\", raw_df.columns)"
      ],
      "metadata": {
        "colab": {
          "base_uri": "https://localhost:8080/"
        },
        "id": "ttwJ4MXfeTqv",
        "outputId": "37bca5c5-76fa-4a37-bcb8-7a0b58c400a9"
      },
      "execution_count": 4,
      "outputs": [
        {
          "output_type": "stream",
          "name": "stdout",
          "text": [
            "🔍 Shape: (28242, 8)\n",
            "📑 Columns: Index(['Unnamed: 0', 'Area', 'Item', 'Year', 'hg/ha_yield',\n",
            "       'average_rain_fall_mm_per_year', 'pesticides_tonnes', 'avg_temp'],\n",
            "      dtype='object')\n"
          ]
        }
      ]
    },
    {
      "cell_type": "markdown",
      "source": [
        "### 3. Rename columns"
      ],
      "metadata": {
        "id": "vZQlEnDffbd3"
      }
    },
    {
      "cell_type": "code",
      "source": [
        "rename_map = {\n",
        "    \"Item\": \"Crop\",\n",
        "    \"hg/ha_yield\": \"Yield\",\n",
        "    \"Area\": \"Area\",\n",
        "    \"Year\": \"Year\"\n",
        "}\n",
        "raw_df.rename(columns=rename_map, inplace=True)\n"
      ],
      "metadata": {
        "id": "dtNkQPcsed9g"
      },
      "execution_count": 5,
      "outputs": []
    },
    {
      "cell_type": "markdown",
      "source": [
        "### 4. Handle missing values"
      ],
      "metadata": {
        "id": "GWi9LZeBfi0R"
      }
    },
    {
      "cell_type": "code",
      "source": [
        "raw_df = raw_df.dropna()"
      ],
      "metadata": {
        "id": "uulN64r1ej7w"
      },
      "execution_count": 6,
      "outputs": []
    },
    {
      "cell_type": "markdown",
      "source": [
        "### 5. Normalize satellite data if present"
      ],
      "metadata": {
        "id": "W5ugDenqfqLD"
      }
    },
    {
      "cell_type": "code",
      "source": [
        "for col in [\"NDVI\", \"Rainfall\", \"Temperature\"]:\n",
        "    if col in raw_df.columns:\n",
        "        raw_df[col] = (raw_df[col] - raw_df[col].min()) / (raw_df[col].max() - raw_df[col].min())\n"
      ],
      "metadata": {
        "id": "sFuVGKWjepGe"
      },
      "execution_count": 7,
      "outputs": []
    },
    {
      "cell_type": "markdown",
      "source": [
        "### 6. Save cleaned data"
      ],
      "metadata": {
        "id": "49Z2p_Frf2S6"
      }
    },
    {
      "cell_type": "code",
      "source": [
        "raw_df.to_csv(\"/content/processed_data.csv\", index=False)\n",
        "print(\"✅ Cleaned dataset saved to data/processed/processed_data.csv\")"
      ],
      "metadata": {
        "colab": {
          "base_uri": "https://localhost:8080/"
        },
        "id": "Vhpic6AUewzm",
        "outputId": "3e600741-5fe8-4c15-ed14-46f77ba28c9f"
      },
      "execution_count": 8,
      "outputs": [
        {
          "output_type": "stream",
          "name": "stdout",
          "text": [
            "✅ Cleaned dataset saved to data/processed/processed_data.csv\n"
          ]
        }
      ]
    }
  ]
}